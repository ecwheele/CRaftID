{
 "cells": [
  {
   "cell_type": "markdown",
   "metadata": {},
   "source": [
    "# 0) Install Instructions#\n",
    "\n",
    "**Hopefully update later with a pip install. For now, here's the environment I'm using**\n",
    "\n",
    "\n",
    "    conda create -n CRaftID_paper_py3 python=3.7\n",
    "    \n",
    "    conda activate CRaftID_paper_py3\n",
    "    \n",
    "    conda install -c conda-forge biopython\n",
    "    \n",
    "    conda install -c conda-forge opencv\n",
    "    \n",
    "    conda install ipykernel\n",
    "    \n",
    "    python -m ipykernel install --user --name CRaftID_paper_py3 --display-name \"CRaftID\"\n",
    "    \n",
    "    conda install pandas\n",
    "    \n",
    "    conda install tqdm\n",
    "\n"
   ]
  },
  {
   "cell_type": "markdown",
   "metadata": {},
   "source": [
    "# 1) Demuxing sequencing reads"
   ]
  },
  {
   "cell_type": "markdown",
   "metadata": {},
   "source": [
    "**Example command:**\n",
    "\n",
    "    import demux_cellraft_updated as demux\n",
    "\n",
    "    fastq_dir = \"/path/to/fastq/files/\"\n",
    "    input_files = [fastq_dir+'Sample1_library_L003_R1_001.fastq.gz', fastq_dir+'Sample2_library_L004_R1_001.fastq.gz']\n",
    "    demux.master(fastq_files, '/path/to/demux_output_dir/')\n",
    "\n",
    "**Inputs:** \n",
    "\n",
    "    1) List of fastq files to demux\n",
    "        \n",
    "    2) Output directory where files will be saved\n",
    "    \n",
    "    Optional:\n",
    "    \n",
    "    3) List of barcodes used for PCR1 indexing. Default are: \n",
    "        ['ACAAGT', 'AAGCAA', 'TCCTGT', 'TGGTCC', 'ATGACC', 'CAGCTT', 'GGATAC', 'GGCTTG', 'other']\n",
    "    \n",
    "**Outputs:**\n",
    "\n",
    "    1) Individual Fastq files for each assigned barcode. \n",
    "    \n",
    "    Naming convention: All characters before the first underscore in fastq file name will be the name, followed by barcode name assigned from the following assignments:\n",
    "        {'ACAAGT': '130',\n",
    "         'AAGCAA': '131',\n",
    "         'TCCTGT': '145',\n",
    "         'TGGTCC': '133',\n",
    "         'ATGACC': '142',\n",
    "         'CAGCTT': '143',\n",
    "         'GGATAC': '144',\n",
    "         'GGCTTG': '132',\n",
    "         'other': 'other'}\n",
    "         \n",
    "    2) Summary file with count of reads assigned to each barcode (Filename_barcode_metrics.csv)\n",
    "    \n",
    "    3) Master summary file with count of reads assigned to each barcode for every fastq sample included in the list of input files (all_metrics_summary.csv)"
   ]
  },
  {
   "cell_type": "markdown",
   "metadata": {},
   "source": [
    "## 2) Assign gRNA identity##\n",
    "\n",
    "**Example Command:**\n",
    "\n",
    "    import cellraft_guide_id_updated as guideid\n",
    "    \n",
    "    sample_manifest = '/full/path/to/sample_manifest.txt'\n",
    "\n",
    "    summary = guideid.process_all_samples(sample_manifest, '/path/to/demux_output_dir/')\n",
    "    summary.to_csv('/path/to/save/dir/gRNA_assignment_summary.csv')\n",
    "    \n",
    "\n",
    "**Inputs:**\n",
    "\n",
    "    1) Manifest with sampleIDs and PCR1 barcodes used. Tab-separated text file with two columns labeled Sample and Index. \n",
    "    Multiple indices are separated with commas.\n",
    "    \n",
    "        Example: \n",
    "        Sample  Index\n",
    "        SG8     142,143,144,145\n",
    "        SG9     130,131,132,133\n",
    "        \n",
    "    2) Directory where demuxed files (used as output from demux.master above)\n",
    "    \n",
    "**Outputs:**\n",
    "    \n",
    "    Pandas dataframe containing read counts for all gRNAs identified in the sequencing reads. \n",
    "    Also includes counts of total reads in the library, reads with a gRNA properly assigned, and reads that did not contain a gRNA insert. \n",
    "    \n",
    "    \n",
    "\n",
    " \n",
    "    \n",
    "    \n",
    "    \n",
    "    \n"
   ]
  },
  {
   "cell_type": "code",
   "execution_count": null,
   "metadata": {},
   "outputs": [],
   "source": []
  }
 ],
 "metadata": {
  "kernelspec": {
   "display_name": "(cmm262-py3)",
   "language": "python",
   "name": "python3"
  },
  "language_info": {
   "codemirror_mode": {
    "name": "ipython",
    "version": 3
   },
   "file_extension": ".py",
   "mimetype": "text/x-python",
   "name": "python",
   "nbconvert_exporter": "python",
   "pygments_lexer": "ipython3",
   "version": "3.6.8"
  }
 },
 "nbformat": 4,
 "nbformat_minor": 2
}
