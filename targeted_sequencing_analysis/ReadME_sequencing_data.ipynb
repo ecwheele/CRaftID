{
 "cells": [
  {
   "cell_type": "markdown",
   "metadata": {},
   "source": [
    "# Example usage"
   ]
  },
  {
   "cell_type": "code",
   "execution_count": 1,
   "metadata": {},
   "outputs": [],
   "source": [
    "import demux_cellraft_updated as demux"
   ]
  },
  {
   "cell_type": "markdown",
   "metadata": {},
   "source": [
    "## 1) Demuxing sequencing reads\n",
    "\n",
    "**Inputs:** \n",
    "\n",
    "    1) List of fastq files to demux\n",
    "        \n",
    "    2) Output directory where files will be saved\n",
    "    \n",
    "    Optional:\n",
    "    \n",
    "    3) List of barcodes used for PCR1 indexing. Default are: \n",
    "        ['ACAAGT', 'AAGCAA', 'TCCTGT', 'TGGTCC', 'ATGACC', 'CAGCTT', 'GGATAC', 'GGCTTG', 'other']\n",
    "        \n",
    "**Outputs:**\n",
    "\n",
    "    1) Individual Fastq files for each assigned barcode. \n",
    "    \n",
    "    Naming convention: All characters before the first underscore in fastq file name will be the name, followed by barcode name assigned from the following assignments:\n",
    "        {'ACAAGT': '130',\n",
    "         'AAGCAA': '131',\n",
    "         'TCCTGT': '145',\n",
    "         'TGGTCC': '133',\n",
    "         'ATGACC': '142',\n",
    "         'CAGCTT': '143',\n",
    "         'GGATAC': '144',\n",
    "         'GGCTTG': '132',\n",
    "         'other': 'other'}\n",
    "         \n",
    "    2) Summary file with count of reads assigned to each barcode (Filename_barcode_metrics.csv)\n",
    "    \n",
    "    3) Master summary file with count of reads assigned to each barcode for every fastq sample included in the list of input files (all_metrics_summary.csv)"
   ]
  },
  {
   "cell_type": "code",
   "execution_count": 2,
   "metadata": {},
   "outputs": [],
   "source": [
    "fastq_dir = \"input_data/\"\n",
    "fastq_files = [\n",
    "    fastq_dir+'SG8_S31_L003_R1_001.fastq.gz', \n",
    "    fastq_dir+'SG9_S42_L004_R1_001.fastq.gz'\n",
    "]\n",
    "demux.master(fastq_files, 'output_data/')"
   ]
  },
  {
   "cell_type": "markdown",
   "metadata": {},
   "source": [
    "## 2) Assign gRNA identity##\n",
    "\n",
    "**Inputs:**\n",
    "\n",
    "    1) Manifest with sampleIDs and PCR1 barcodes used. Tab-separated text file with two columns labeled Sample and Index. \n",
    "    Multiple indices are separated with commas.\n",
    "    \n",
    "        Example: \n",
    "        Sample  Index\n",
    "        SG8     142,143,144,145\n",
    "        SG9     130,131,132,133\n",
    "        \n",
    "    2) Directory where demuxed files (used as output from demux.master above)\n",
    "    \n",
    "**Outputs:**\n",
    "    \n",
    "    Pandas dataframe containing read counts for all gRNAs identified in the sequencing reads. \n",
    "    Also includes counts of total reads in the library, reads with a gRNA properly assigned, and reads that did not contain a gRNA insert. \n",
    "    \n",
    "    "
   ]
  },
  {
   "cell_type": "code",
   "execution_count": 3,
   "metadata": {},
   "outputs": [],
   "source": [
    "import cellraft_guide_id_updated as guideid\n",
    "\n",
    "sample_manifest = 'input_data/sample_manifest.txt'\n",
    "\n",
    "summary = guideid.process_all_samples(sample_manifest, 'output_data/')\n",
    "summary.to_csv('output_data/gRNA_assignment_summary.csv')"
   ]
  },
  {
   "cell_type": "code",
   "execution_count": null,
   "metadata": {},
   "outputs": [],
   "source": []
  }
 ],
 "metadata": {
  "kernelspec": {
   "display_name": "CRaftID",
   "language": "python",
   "name": "craftid_paper_py3"
  },
  "language_info": {
   "codemirror_mode": {
    "name": "ipython",
    "version": 3
   },
   "file_extension": ".py",
   "mimetype": "text/x-python",
   "name": "python",
   "nbconvert_exporter": "python",
   "pygments_lexer": "ipython3",
   "version": "3.6.8"
  }
 },
 "nbformat": 4,
 "nbformat_minor": 2
}
