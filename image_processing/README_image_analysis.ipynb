{
 "cells": [
  {
   "cell_type": "markdown",
   "metadata": {},
   "source": [
    "## Use the CRaftID environment described in sequence analysis section##\n",
    "\n",
    "**Scripts required:** \n",
    "\n",
    "    stage_position_from_olympus.py\n",
    "    make_processing_macro_olympus.py\n",
    "    \n",
    "**imports**\n",
    "\n",
    "    import make_processing_macro_olympus as mpo\n",
    "    import stage_position_from_olympus as spo\n",
    "    import detect_squares_v2 as grid\n",
    "    \n",
    "    import glob\n",
    "    import os"
   ]
  },
  {
   "cell_type": "markdown",
   "metadata": {},
   "source": [
    "# (pre-processing) Generate Maximum Projected Tif files from .oir Files Outputted from Microscope\n",
    "\n",
    "The example provided with this code will take .oir files from the Olympus FV3000 microscope with 3 color channels (red, blue, and brightfield) and 5 z-planes. Slight modifications may be required with other setups. \n",
    "\n",
    "**Inputs:**\n",
    "\n",
    "    1) input_data: Directory where .oir files exist\n",
    "    \n",
    "    2) tif_files: Directory where .tif files will be saved after running the macro in Fiji (outside this notebook)\n",
    "    \n",
    "    3) common_name_prefix: common prefix in name of all .oir files from the experiment\n",
    "    \n",
    "    4) file_list: output from mpo.get_file_list(num_files)\n",
    "    \n",
    "    5) macro_file_dir: Folder where macro will be saved\n",
    "    \n",
    "**Outputs:**\n",
    "\n",
    "    Will generate a file called oir_macro.ijm in the assigned folder that can be run in Fiji to process all oir images into a max-projection image for each color channel saved as .tif files in the assigned save_directory.\n",
    "    \n",
    "    Must run this file in Fiji with \"Plugins\" - \"Macros\" - \"Run\" to process the images."
   ]
  },
  {
   "cell_type": "markdown",
   "metadata": {},
   "source": [
    "**Example command:**"
   ]
  },
  {
   "cell_type": "code",
   "execution_count": 1,
   "metadata": {},
   "outputs": [],
   "source": [
    "import make_processing_macro_olympus as mpo\n",
    "import glob\n",
    "import os\n",
    "\n",
    "input_data = \"input_data/\" \n",
    "tif_files = \"tif_files/\"\n",
    "macro_file_dir = \"macro_file_dir/\"\n",
    "\n",
    "if not os.path.exists(tif_files):\n",
    "    ! mkdir $tif_files\n",
    "if not os.path.exists(macro_file_dir):\n",
    "    ! mkdir $macro_file_dir\n",
    "\n",
    "num_files = len(glob.glob(input_data+\"*.oir\"))\n",
    "file_list = mpo.get_file_list(num_files)\n",
    "\n",
    "common_name_prefix = \"181019_raft1_A01_G001_\"\n",
    "\n",
    "mpo.make_macro_3_channels(input_data, tif_files, common_name_prefix, file_list, macro_file_dir)"
   ]
  },
  {
   "cell_type": "markdown",
   "metadata": {},
   "source": [
    "## (pre-processing) Run the file ```oir_macro.ijm``` in Fiji with \"Plugins\" - \"Macros\" - \"Run\" to process the images."
   ]
  },
  {
   "cell_type": "markdown",
   "metadata": {},
   "source": [
    "## (optional) Get absolute x and y coordinates for each image from metadata.##\n",
    "\n",
    "This will be used later on to select rafts out of the array.\n",
    "\n",
    "**Inputs:**\n",
    "\n",
    "    1) Metadatafile from imaging session \"matl.omp2info\"\n",
    "    \n",
    "    2) Filname and path to save result.\n",
    "    \n",
    "**Outputs:**\n",
    "\n",
    "    csv file with 5 columns: filename, x-step, y-step, absolute x-coordinate, absolute y-coordinate. "
   ]
  },
  {
   "cell_type": "markdown",
   "metadata": {},
   "source": [
    "**Example Command:**"
   ]
  },
  {
   "cell_type": "code",
   "execution_count": 2,
   "metadata": {},
   "outputs": [],
   "source": [
    "import stage_position_from_olympus as spo\n",
    "\n",
    "metadata = input_data+\"matl.omp2info\"\n",
    "savefile = macro_file_dir+\"pos_info.csv\"\n",
    "results = spo.master(metadata, filename_to_save=savefile)"
   ]
  },
  {
   "cell_type": "markdown",
   "metadata": {},
   "source": [
    "## 3) Segment tif images for individual rafts and select rafts containing cells##\n",
    "\n",
    "**Inputs:**\n",
    "\n",
    "    1) tif_files: Directory where tif files are stored, one per color channel. \n",
    "        (Current naming suffixes: Brightfield = *2.tif, Red Channel = *1.tif, Blue channel = *0.tif)\n",
    "        \n",
    "    2) Array type - this is used to specify the length (in pixels) of squares to be detected. \n",
    "    Need to adjust with different arrays/microscope settings (Need to make a demo on how to get these numbers). \n",
    "    \n",
    "    3) candidate_wells_dir: Directory where individual raft images will be stored.\n",
    "    \n",
    "    4) Blur used to improve square detection in brightfield image. Recommended to set to True\n",
    "    \n",
    "**Outputs:**\n",
    "\n",
    "    All rafts detected with cells will be saved in the assigned folder. Two images per raft, one for red and one for blue channel"
   ]
  },
  {
   "cell_type": "markdown",
   "metadata": {},
   "source": [
    "**Example Command:**"
   ]
  },
  {
   "cell_type": "code",
   "execution_count": 3,
   "metadata": {},
   "outputs": [
    {
     "name": "stderr",
     "output_type": "stream",
     "text": [
      "100%|██████████| 324/324 [21:54<00:00,  3.91s/it]"
     ]
    }
   ],
   "source": [
    "import detect_squares_v2 as grid\n",
    "\n",
    "array_type = \"custom_100_old_10x_confocal\"\n",
    "tif_files = \"tif_files/\"\n",
    "candidate_wells_dir = \"candidate_wells/\"\n",
    "\n",
    "if not os.path.exists(candidate_wells_dir):\n",
    "    ! mkdir $candidate_wells_dir\n",
    "\n",
    "grid.process_all(tif_files, array_type, candidate_wells_dir, blur=True)"
   ]
  },
  {
   "cell_type": "code",
   "execution_count": null,
   "metadata": {},
   "outputs": [],
   "source": []
  }
 ],
 "metadata": {
  "kernelspec": {
   "display_name": "CRaftID",
   "language": "python",
   "name": "craftid_paper_py3"
  },
  "language_info": {
   "codemirror_mode": {
    "name": "ipython",
    "version": 3
   },
   "file_extension": ".py",
   "mimetype": "text/x-python",
   "name": "python",
   "nbconvert_exporter": "python",
   "pygments_lexer": "ipython3",
   "version": "3.6.8"
  }
 },
 "nbformat": 4,
 "nbformat_minor": 2
}
